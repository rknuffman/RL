{
 "cells": [
  {
   "cell_type": "code",
   "execution_count": 1,
   "metadata": {},
   "outputs": [
    {
     "name": "stderr",
     "output_type": "stream",
     "text": [
      "/Users/qjh3/envs/rl/lib/python3.6/importlib/_bootstrap.py:219: RuntimeWarning: compiletime version 3.5 of module 'tensorflow.python.framework.fast_tensor_util' does not match runtime version 3.6\n",
      "  return f(*args, **kwds)\n"
     ]
    }
   ],
   "source": [
    "import numpy as np\n",
    "import tensorflow as tf\n",
    "import gym\n",
    "import matplotlib.pyplot as plt\n",
    "%matplotlib inline"
   ]
  },
  {
   "cell_type": "code",
   "execution_count": 2,
   "metadata": {},
   "outputs": [
    {
     "name": "stdout",
     "output_type": "stream",
     "text": [
      "\u001b[33mWARN: gym.spaces.Box autodetected dtype as <class 'numpy.float32'>. Please provide explicit dtype.\u001b[0m\n"
     ]
    }
   ],
   "source": [
    "env = gym.make('CartPole-v1')"
   ]
  },
  {
   "cell_type": "code",
   "execution_count": 3,
   "metadata": {},
   "outputs": [],
   "source": [
    "from collections import deque\n",
    "\n",
    "class Memory:\n",
    "    def __init__(self, capacity=50):\n",
    "        self.memories = deque()\n",
    "        self.capacity = capacity\n",
    "        self.n = len(self.memories)\n",
    "    \n",
    "    def forget(self):\n",
    "        self.memories.popleft()\n",
    "        self.n -= 1\n",
    "    \n",
    "    def remember(self, experience):\n",
    "        self.memories.append(experience)\n",
    "        self.n += 1\n",
    "        if len(self.memories) > self.capacity:\n",
    "            self.forget()\n",
    "        \n",
    "    def sample(self, n=1):\n",
    "        idx = np.random.choice(range(len(self.memories)),n)\n",
    "        return np.take(self.memories, idx, axis=0)"
   ]
  },
  {
   "cell_type": "code",
   "execution_count": 4,
   "metadata": {},
   "outputs": [],
   "source": [
    "#--------------------------------\n",
    "# Defining Actor and Critic networks below\n",
    "#--------------------------------\n",
    "tf.reset_default_graph()\n",
    "\n",
    "# environment dimensions\n",
    "s_shape = env.observation_space.shape[0]\n",
    "a_shape = env.action_space.n"
   ]
  },
  {
   "cell_type": "code",
   "execution_count": 5,
   "metadata": {},
   "outputs": [
    {
     "name": "stdout",
     "output_type": "stream",
     "text": [
      "WARNING:tensorflow:From /Users/qjh3/envs/rl/lib/python3.6/site-packages/tensorflow/python/keras/initializers.py:104: calling VarianceScaling.__init__ (from tensorflow.python.ops.init_ops) with distribution=normal is deprecated and will be removed in a future version.\n",
      "Instructions for updating:\n",
      "`normal` is a deprecated alias for `truncated_normal`\n"
     ]
    }
   ],
   "source": [
    "#--------------------------------\n",
    "# Critic Neural Network (evaluates Actor decisions based on utility)\n",
    "#--------------------------------\n",
    "\n",
    "# input placeholder\n",
    "S = tf.placeholder(tf.float32,[None,s_shape],name='state_input')\n",
    "\n",
    "# simple mlp with \"s_shape\" inputs, 20 hidden units, 1 output\n",
    "hc=20\n",
    "w1c = tf.get_variable(\"W1c\", [s_shape,hc], initializer = tf.keras.initializers.he_normal(seed=1))\n",
    "b1c = tf.get_variable(\"B1c\", [1,hc], initializer = tf.keras.initializers.he_normal(seed=1))\n",
    "z1c = tf.add(tf.matmul(S,w1c),b1c)\n",
    "a1c = tf.nn.relu(z1c)\n",
    "\n",
    "w2c = tf.get_variable(\"W2c\", [hc,1], initializer = tf.keras.initializers.he_normal(seed=1))\n",
    "b2c = tf.get_variable(\"B2c\", [1,1], initializer = tf.keras.initializers.he_normal(seed=1))\n",
    "Qnet = tf.add(tf.matmul(a1c,w2c),b2c)\n",
    "\n",
    "# loss = MSE q value prediction\n",
    "Qtarget = tf.placeholder(shape=[None,],dtype=tf.float32)\n",
    "loss_c = tf.reduce_mean(tf.square(tf.subtract(Qtarget,Qnet)))\n",
    "trainer_c = tf.train.AdamOptimizer()\n",
    "updateCritic = trainer_c.minimize(loss_c)"
   ]
  },
  {
   "cell_type": "code",
   "execution_count": 6,
   "metadata": {},
   "outputs": [
    {
     "name": "stdout",
     "output_type": "stream",
     "text": [
      "WARNING:tensorflow:From <ipython-input-6-0bace9c63987>:25: softmax_cross_entropy_with_logits (from tensorflow.python.ops.nn_ops) is deprecated and will be removed in a future version.\n",
      "Instructions for updating:\n",
      "\n",
      "Future major versions of TensorFlow will allow gradients to flow\n",
      "into the labels input on backprop by default.\n",
      "\n",
      "See @{tf.nn.softmax_cross_entropy_with_logits_v2}.\n",
      "\n"
     ]
    }
   ],
   "source": [
    "#--------------------------------\n",
    "# Actor Neural Network (learns non-deterministic policy based on critic feedback)\n",
    "#--------------------------------\n",
    "\n",
    "# input placeholder\n",
    "actions = tf.placeholder(tf.int32, [None, a_shape], name='true_actions')\n",
    "td_error = tf.placeholder(tf.float32, [None,], name='temporal_difference_error')\n",
    "\n",
    "# simple mlp with \"s_shape\" inputs, 20 hidden units, \"a_shape\" outputs\n",
    "ha=20\n",
    "w1a = tf.get_variable(\"W1a\", [s_shape, ha], initializer = tf.keras.initializers.he_normal(seed=1))\n",
    "b1a = tf.get_variable(\"B1a\", [1, ha], initializer = tf.keras.initializers.he_normal(seed=1))\n",
    "z1a = tf.add(tf.matmul(S,w1a),b1a)\n",
    "a1a = tf.nn.relu(z1a)\n",
    "\n",
    "w2a = tf.get_variable(\"W2a\", [ha, a_shape], initializer = tf.keras.initializers.he_normal(seed=1))\n",
    "b2a = tf.get_variable(\"B2a\", [1, a_shape], initializer = tf.keras.initializers.he_normal(seed=1))\n",
    "logits = tf.add(tf.matmul(a1a,w2a),b2a)\n",
    "\n",
    "# non-deterministic actions \n",
    "softmax_output = tf.nn.softmax(logits)\n",
    "\n",
    "# loss = log likelihood action probabilities modulated by critic feedback\n",
    "labels = actions\n",
    "neg_log_likelihood = tf.nn.softmax_cross_entropy_with_logits(labels=labels, logits=logits)\n",
    "loss_a = tf.reduce_mean(neg_log_likelihood * td_error)\n",
    "trainer_a = tf.train.AdamOptimizer()\n",
    "updateActor = trainer_a.minimize(loss_a)"
   ]
  },
  {
   "cell_type": "markdown",
   "metadata": {},
   "source": [
    "Critic Network | Actor Network\n",
    "-|-\n",
    "![network_diagram](../diagrams/critic_network_img \"Critic-Network Structure\") | ![network_diagram](../diagrams/actor_network_img \"Actor-Network Structure\")"
   ]
  },
  {
   "cell_type": "code",
   "execution_count": 7,
   "metadata": {},
   "outputs": [],
   "source": [
    "sess = tf.Session()\n",
    "sess.run(tf.global_variables_initializer())"
   ]
  },
  {
   "cell_type": "code",
   "execution_count": 8,
   "metadata": {},
   "outputs": [],
   "source": [
    "#--------------------------------\n",
    "# Learning parameters\n",
    "#--------------------------------\n",
    "alpha = 0.5\n",
    "gamma = 0.99\n",
    "epsilon = 1.0\n",
    "decay = 0.999\n",
    "\n",
    "alpha_min = 0.1\n",
    "epsilon_min = 0.1"
   ]
  },
  {
   "cell_type": "code",
   "execution_count": 9,
   "metadata": {
    "scrolled": false
   },
   "outputs": [
    {
     "name": "stdout",
     "output_type": "stream",
     "text": [
      "Episode 0: Avg Reward = 15.0, Exploration Rate = 1.000, Actor Loss = -6.458, Critic Loss = 2.699\n",
      "Episode 50: Avg Reward = 23.8, Exploration Rate = 0.951, Actor Loss = -20.086, Critic Loss = 44.689\n"
     ]
    }
   ],
   "source": [
    "n_episodes = 100\n",
    "N_ACTIONS = env.action_space.n\n",
    "reward_history = []\n",
    "\n",
    "#--------------------------------\n",
    "# Iterate through pole balancing episodes\n",
    "#--------------------------------\n",
    "for episode in range(n_episodes):\n",
    "    \n",
    "    s = env.reset()\n",
    "    rsum = 0\n",
    "    explore_rate = max(epsilon_min, epsilon*decay**episode)\n",
    "\n",
    "    #--------------------------------\n",
    "    # individual steps through a single episode\n",
    "    #--------------------------------\n",
    "    while True:\n",
    "        #--------------------------------\n",
    "        # Non-deterministic actions from actor network\n",
    "        #--------------------------------\n",
    "        policy_output = sess.run(softmax_output, feed_dict={S:np.atleast_2d(s)})\n",
    "        a = np.random.choice(range(len(policy_output.ravel())), p=policy_output.ravel())\n",
    "        if np.random.uniform() < explore_rate:\n",
    "            a = np.random.choice(range(N_ACTIONS))  \n",
    "            \n",
    "        #--------------------------------\n",
    "        # Take selected action\n",
    "        #--------------------------------    \n",
    "        sp, r, d, _ = env.step(a)\n",
    "        \n",
    "        #--------------------------------\n",
    "        # TD Error for critic update\n",
    "        #--------------------------------\n",
    "        Q = sess.run(Qnet,feed_dict={S:np.atleast_2d(s)})\n",
    "        Qp = sess.run(Qnet,feed_dict={S:np.atleast_2d(sp)})\n",
    "\n",
    "        if d:\n",
    "            Qupdate = (1-alpha)*Q + alpha*(r)\n",
    "        else:\n",
    "            Qupdate = (1-alpha)*Q + alpha*(r+gamma*Qp)\n",
    "        tde = Qupdate-Q\n",
    "#         tde = Qupdate\n",
    "        _, lc = sess.run([updateCritic,loss_c], feed_dict={S:np.atleast_2d(s),Qtarget:Qupdate.ravel()})\n",
    "        a_ohe = np.atleast_2d(np.eye(2)[a])\n",
    "        _, la = sess.run([updateActor,loss_a], feed_dict={S:np.atleast_2d(s),actions:a_ohe,td_error:tde.ravel()})\n",
    "\n",
    "        s = sp\n",
    "        rsum += r\n",
    "        if d:\n",
    "            break\n",
    "\n",
    "    reward_history.append(rsum)\n",
    "    #--------------------------------\n",
    "    # Print out progress indicators \n",
    "    #--------------------------------\n",
    "    if episode%50==0:\n",
    "        print(\"Episode {}: Avg Reward = {}, Exploration Rate = {:.3f}, Actor Loss = {:.3f}, Critic Loss = {:.3f}\".format(\n",
    "            episode,np.mean(reward_history[-50:]),explore_rate,la,lc))"
   ]
  },
  {
   "cell_type": "code",
   "execution_count": 13,
   "metadata": {},
   "outputs": [],
   "source": [
    "def running_mean(x, N):\n",
    "    cumsum = np.cumsum(np.insert(x, 0, 0)) \n",
    "    return (cumsum[N:] - cumsum[:-N]) / float(N)"
   ]
  },
  {
   "cell_type": "code",
   "execution_count": 14,
   "metadata": {},
   "outputs": [
    {
     "data": {
      "text/plain": [
       "[<matplotlib.lines.Line2D at 0x1216a6c50>]"
      ]
     },
     "execution_count": 14,
     "metadata": {},
     "output_type": "execute_result"
    },
    {
     "data": {
      "image/png": "[encoded data removed]",
      "text/plain": [
       "<Figure size 432x288 with 1 Axes>"
      ]
     },
     "metadata": {},
     "output_type": "display_data"
    }
   ],
   "source": [
    "plt.plot(reward_history)"
   ]
  },
  {
   "cell_type": "code",
   "execution_count": 15,
   "metadata": {},
   "outputs": [
    {
     "data": {
      "text/plain": [
       "[<matplotlib.lines.Line2D at 0x1217bccf8>]"
      ]
     },
     "execution_count": 15,
     "metadata": {},
     "output_type": "execute_result"
    },
    {
     "data": {
      "image/png": "[encoded data removed]",
      "text/plain": [
       "<Figure size 432x288 with 1 Axes>"
      ]
     },
     "metadata": {},
     "output_type": "display_data"
    }
   ],
   "source": [
    "rmoving = running_mean(reward_history, 50)\n",
    "plt.plot(rmoving)"
   ]
  },
  {
   "cell_type": "markdown",
   "metadata": {},
   "source": [
    "---\n",
    "## Run your trained agent for a random episode!\n",
    "\n",
    "---"
   ]
  },
  {
   "cell_type": "code",
   "execution_count": 14,
   "metadata": {},
   "outputs": [
    {
     "name": "stdout",
     "output_type": "stream",
     "text": [
      "500.0\n"
     ]
    }
   ],
   "source": [
    "s = env.reset()\n",
    "total_reward = 0\n",
    "while True:\n",
    "    policy_output = sess.run(softmax_output, feed_dict={S:np.atleast_2d(s)})\n",
    "    a = np.random.choice(range(len(policy_output.ravel())), p=policy_output.ravel())\n",
    "    sp, r, d, _ = env.step(a)\n",
    "        \n",
    "    env.render()\n",
    "\n",
    "    total_reward += r\n",
    "    s = sp\n",
    "    if d:\n",
    "        print(total_reward)\n",
    "        break"
   ]
  },
  {
   "cell_type": "code",
   "execution_count": null,
   "metadata": {},
   "outputs": [],
   "source": []
  },
  {
   "cell_type": "code",
   "execution_count": 1,
   "metadata": {},
   "outputs": [],
   "source": [
    "import tensorflow as tf"
   ]
  },
  {
   "cell_type": "code",
   "execution_count": 2,
   "metadata": {},
   "outputs": [],
   "source": [
    "actor = tf.Graph()\n",
    "critic = tf.Graph()"
   ]
  },
  {
   "cell_type": "code",
   "execution_count": 3,
   "metadata": {},
   "outputs": [],
   "source": [
    "with actor.as_default():\n",
    "    x = tf.Variable(tf.random_normal([3]))"
   ]
  },
  {
   "cell_type": "code",
   "execution_count": 4,
   "metadata": {},
   "outputs": [],
   "source": [
    "with critic.as_default():\n",
    "    a1 = tf.placeholder(dtype=tf.float32)\n",
    "    a2 = tf.placeholder(dtype=tf.float32)\n",
    "    y = tf.add(a1,a2)"
   ]
  },
  {
   "cell_type": "code",
   "execution_count": 5,
   "metadata": {},
   "outputs": [],
   "source": [
    "actor1 = tf.Session(graph=actor)\n",
    "actor2 = tf.Session(graph=actor)\n",
    "critic1 = tf.Session(graph=critic)"
   ]
  },
  {
   "cell_type": "code",
   "execution_count": 13,
   "metadata": {},
   "outputs": [],
   "source": [
    "actor1.run(x.initializer)\n",
    "actor2.run(x.initializer)\n",
    "\n",
    "a1sample = actor1.run(x)\n",
    "a2sample = actor2.run(x)"
   ]
  },
  {
   "cell_type": "code",
   "execution_count": 14,
   "metadata": {},
   "outputs": [
    {
     "data": {
      "text/plain": [
       "array([-0.53309673,  1.9610754 ,  0.56874305], dtype=float32)"
      ]
     },
     "execution_count": 14,
     "metadata": {},
     "output_type": "execute_result"
    }
   ],
   "source": [
    "critic1.run(y,feed_dict={a1:a1sample, a2:a2sample})"
   ]
  },
  {
   "cell_type": "code",
   "execution_count": null,
   "metadata": {},
   "outputs": [],
   "source": []
  },
  {
   "cell_type": "code",
   "execution_count": null,
   "metadata": {},
   "outputs": [],
   "source": []
  },
  {
   "cell_type": "code",
   "execution_count": null,
   "metadata": {},
   "outputs": [],
   "source": []
  }
 ],
 "metadata": {
  "kernelspec": {
   "display_name": "Python 3",
   "language": "python",
   "name": "python3"
  },
  "language_info": {
   "codemirror_mode": {
    "name": "ipython",
    "version": 3
   },
   "file_extension": ".py",
   "mimetype": "text/x-python",
   "name": "python",
   "nbconvert_exporter": "python",
   "pygments_lexer": "ipython3",
   "version": "3.6.5"
  }
 },
 "nbformat": 4,
 "nbformat_minor": 2
}
