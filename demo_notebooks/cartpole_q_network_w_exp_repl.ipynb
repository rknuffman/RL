{
 "cells": [
  {
   "cell_type": "code",
   "execution_count": 1,
   "metadata": {},
   "outputs": [],
   "source": [
    "import numpy as np\n",
    "import tensorflow as tf\n",
    "import gym\n",
    "import matplotlib.pyplot as plt\n",
    "%matplotlib inline"
   ]
  },
  {
   "cell_type": "code",
   "execution_count": 2,
   "metadata": {},
   "outputs": [
    {
     "name": "stdout",
     "output_type": "stream",
     "text": [
      "\u001b[33mWARN: gym.spaces.Box autodetected dtype as <class 'numpy.float32'>. Please provide explicit dtype.\u001b[0m\n"
     ]
    }
   ],
   "source": [
    "env = gym.make('CartPole-v1')"
   ]
  },
  {
   "cell_type": "code",
   "execution_count": 3,
   "metadata": {},
   "outputs": [],
   "source": [
    "from collections import deque\n",
    "\n",
    "class Memory:\n",
    "    def __init__(self, capacity=50):\n",
    "        self.memories = deque()\n",
    "        self.capacity = capacity\n",
    "        self.n = len(self.memories)\n",
    "    \n",
    "    def forget(self):\n",
    "        self.memories.popleft()\n",
    "        self.n -= 1\n",
    "    \n",
    "    def remember(self, experience):\n",
    "        self.memories.append(experience)\n",
    "        self.n += 1\n",
    "        if len(self.memories) > self.capacity:\n",
    "            self.forget()\n",
    "        \n",
    "    def sample(self, n=1):\n",
    "        idx = np.random.choice(range(len(self.memories)),n)\n",
    "        return np.take(self.memories, idx, axis=0)"
   ]
  },
  {
   "cell_type": "code",
   "execution_count": 4,
   "metadata": {},
   "outputs": [],
   "source": [
    "#--------------------------------\n",
    "# Neural Network as function approximator (replace Q table)\n",
    "#--------------------------------\n",
    "tf.reset_default_graph()\n",
    "\n",
    "# environment dimensions\n",
    "s_shape = env.observation_space.shape[0]\n",
    "a_shape = env.action_space.n\n",
    "\n",
    "# input placeholder\n",
    "S = tf.placeholder(tf.float32,[None,s_shape],name='state_input')\n",
    "\n",
    "# simple mlp with \"s_shape\" inputs, 20 hidden units, \"a_shape\" outputs\n",
    "h=20\n",
    "w1 = tf.get_variable(\"W1\", [s_shape,h], initializer = tf.keras.initializers.he_normal(seed=1))\n",
    "b1 = tf.get_variable(\"B1\", [1,h], initializer = tf.keras.initializers.he_normal(seed=1))\n",
    "z1 = tf.add(tf.matmul(S,w1),b1)\n",
    "a1 = tf.nn.relu(z1)\n",
    "\n",
    "w2 = tf.get_variable(\"W2\", [h,a_shape], initializer = tf.keras.initializers.he_normal(seed=1))\n",
    "b2 = tf.get_variable(\"B2\", [1,a_shape], initializer = tf.keras.initializers.he_normal(seed=1))\n",
    "Qnet = tf.add(tf.matmul(a1,w2),b2)\n",
    "\n",
    "# greedy policy wrt learned q values\n",
    "action = tf.argmax(Qnet,1)\n",
    "\n",
    "# loss = MSE q value prediction\n",
    "Qtarget = tf.placeholder(shape=[None,a_shape],dtype=tf.float32)\n",
    "loss = tf.reduce_mean(tf.square(tf.subtract(Qtarget,Qnet)))\n",
    "trainer = tf.train.AdamOptimizer()\n",
    "updateModel = trainer.minimize(loss)"
   ]
  },
  {
   "cell_type": "markdown",
   "metadata": {},
   "source": [
    "![network_diagram](../diagrams/q_network_img \"Q-Network Structure\")"
   ]
  },
  {
   "cell_type": "code",
   "execution_count": 5,
   "metadata": {},
   "outputs": [],
   "source": [
    "sess = tf.Session()\n",
    "sess.run(tf.global_variables_initializer())"
   ]
  },
  {
   "cell_type": "code",
   "execution_count": 6,
   "metadata": {},
   "outputs": [],
   "source": [
    "#--------------------------------\n",
    "# Learning parameters\n",
    "#--------------------------------\n",
    "alpha = 0.4\n",
    "gamma = 0.99\n",
    "epsilon = 1.0\n",
    "decay = 0.998\n",
    "\n",
    "alpha_min = 0.1\n",
    "epsilon_min = 0.1"
   ]
  },
  {
   "cell_type": "code",
   "execution_count": 7,
   "metadata": {
    "scrolled": false
   },
   "outputs": [
    {
     "name": "stdout",
     "output_type": "stream",
     "text": [
      "Episode 0: Avg Reward = 14.0, Exploration Rate = 1.000, Loss = 1.221\n",
      "Episode 50: Avg Reward = 22.14, Exploration Rate = 0.905, Loss = 0.222\n",
      "Episode 100: Avg Reward = 20.84, Exploration Rate = 0.819, Loss = 0.118\n",
      "Episode 150: Avg Reward = 22.74, Exploration Rate = 0.741, Loss = 2.253\n",
      "Episode 200: Avg Reward = 35.34, Exploration Rate = 0.670, Loss = 4.662\n",
      "Episode 250: Avg Reward = 39.42, Exploration Rate = 0.606, Loss = 0.224\n",
      "Episode 300: Avg Reward = 45.7, Exploration Rate = 0.548, Loss = 0.155\n",
      "Episode 350: Avg Reward = 85.08, Exploration Rate = 0.496, Loss = 0.150\n",
      "Episode 400: Avg Reward = 187.06, Exploration Rate = 0.449, Loss = 0.160\n",
      "Episode 450: Avg Reward = 214.94, Exploration Rate = 0.406, Loss = 0.179\n",
      "Episode 500: Avg Reward = 275.3, Exploration Rate = 0.368, Loss = 0.180\n",
      "Episode 550: Avg Reward = 235.8, Exploration Rate = 0.333, Loss = 0.159\n",
      "Episode 600: Avg Reward = 408.66, Exploration Rate = 0.301, Loss = 0.028\n",
      "Episode 650: Avg Reward = 387.26, Exploration Rate = 0.272, Loss = 0.062\n",
      "Episode 700: Avg Reward = 458.42, Exploration Rate = 0.246, Loss = 0.023\n",
      "Episode 750: Avg Reward = 368.1, Exploration Rate = 0.223, Loss = 1.254\n",
      "Episode 800: Avg Reward = 266.58, Exploration Rate = 0.202, Loss = 0.068\n",
      "Episode 850: Avg Reward = 310.28, Exploration Rate = 0.182, Loss = 108.009\n",
      "Episode 900: Avg Reward = 43.54, Exploration Rate = 0.165, Loss = 10.987\n",
      "Episode 950: Avg Reward = 499.52, Exploration Rate = 0.149, Loss = 0.033\n"
     ]
    }
   ],
   "source": [
    "n_episodes = 1000\n",
    "n_actions = env.action_space.n\n",
    "reward_history = []\n",
    "experience_replay = Memory(capacity=5000)\n",
    "minibatches = 32\n",
    "\n",
    "#--------------------------------\n",
    "# Iterate through pole balancing episodes\n",
    "#--------------------------------\n",
    "for episode in range(n_episodes):\n",
    "\n",
    "    s = env.reset()\n",
    "    rsum = 0  \n",
    "    explore_rate = max(epsilon_min, epsilon*decay**episode)\n",
    "\n",
    "    #--------------------------------\n",
    "    # individual steps through a single episode\n",
    "    #--------------------------------\n",
    "    while True:\n",
    "        #--------------------------------\n",
    "        # Epsilon greedy policy for selecting actions\n",
    "        #--------------------------------\n",
    "        s = np.clip(s, -10, 10)\n",
    "        a = sess.run(action,feed_dict={S:np.atleast_2d(s)})[0]\n",
    "        if np.random.uniform() < explore_rate:\n",
    "            a = np.random.choice(range(n_actions))        \n",
    "        \n",
    "        #--------------------------------\n",
    "        # Take selected action\n",
    "        #--------------------------------\n",
    "        sp, r, d, _ = env.step(a)\n",
    "        sp = np.clip(sp, -10, 10)\n",
    "        experience_replay.remember((s,a,r,sp,d))\n",
    "        \n",
    "        #------------------------------------------------------------------------\n",
    "        # Update Q Network with experience replay minibatches\n",
    "        #------------------------------------------------------------------------ \n",
    "        minibatch = min(experience_replay.n, minibatches)\n",
    "        batch = experience_replay.sample(minibatch)\n",
    "        batch_s = batch[:,0]\n",
    "        batch_a = batch[:,1]\n",
    "        batch_r = batch[:,2]\n",
    "        batch_sp = batch[:,3]\n",
    "        done = batch[:,4]\n",
    "        \n",
    "        Q = sess.run(Qnet,feed_dict={S:np.stack(batch_s)})\n",
    "        Qp = sess.run(Qnet,feed_dict={S:np.stack(batch_sp)})\n",
    "        for i in range(minibatch):\n",
    "            if done[i]:\n",
    "                Q[i,batch_a[i]] = (1-alpha)*Q[i,batch_a[i]] + alpha*(batch_r[i])\n",
    "            else:\n",
    "                Q[i,batch_a[i]] = (1-alpha)*Q[i,batch_a[i]] + alpha*(batch_r[i]+gamma*max(Qp[i]))\n",
    "        \n",
    "        X = np.stack(batch_s)\n",
    "        Y = Q\n",
    "        for _ in range(1):\n",
    "            _, l = sess.run([updateModel,loss], feed_dict={S:X,Qtarget:Y})\n",
    "        \n",
    "        s = sp\n",
    "        rsum += r\n",
    "        if d:\n",
    "            break\n",
    "\n",
    "    reward_history.append(rsum)\n",
    "    #--------------------------------\n",
    "    # Print out progress indicators \n",
    "    #--------------------------------\n",
    "    if episode%50==0:\n",
    "        print(\"Episode {}: Avg Reward = {}, Exploration Rate = {:.3f}, Loss = {:.3f}\".format(episode,np.mean(reward_history[-50:]),explore_rate,l))"
   ]
  },
  {
   "cell_type": "code",
   "execution_count": 8,
   "metadata": {},
   "outputs": [],
   "source": [
    "def running_mean(x, N):\n",
    "    cumsum = np.cumsum(np.insert(x, 0, 0)) \n",
    "    return (cumsum[N:] - cumsum[:-N]) / float(N)"
   ]
  },
  {
   "cell_type": "code",
   "execution_count": 9,
   "metadata": {},
   "outputs": [
    {
     "data": {
      "text/plain": [
       "[<matplotlib.lines.Line2D at 0x1199d10f0>]"
      ]
     },
     "execution_count": 9,
     "metadata": {},
     "output_type": "execute_result"
    },
    {
     "data": {
      "image/png": "[encoded data removed]",
      "text/plain": [
       "<Figure size 432x288 with 1 Axes>"
      ]
     },
     "metadata": {},
     "output_type": "display_data"
    }
   ],
   "source": [
    "plt.plot(reward_history)"
   ]
  },
  {
   "cell_type": "code",
   "execution_count": 10,
   "metadata": {},
   "outputs": [
    {
     "data": {
      "text/plain": [
       "[<matplotlib.lines.Line2D at 0x119b2ef60>]"
      ]
     },
     "execution_count": 10,
     "metadata": {},
     "output_type": "execute_result"
    },
    {
     "data": {
      "image/png": "[encoded data removed]",
      "text/plain": [
       "<Figure size 432x288 with 1 Axes>"
      ]
     },
     "metadata": {},
     "output_type": "display_data"
    }
   ],
   "source": [
    "rmoving = running_mean(reward_history, 10)\n",
    "plt.plot(rmoving)"
   ]
  },
  {
   "cell_type": "markdown",
   "metadata": {},
   "source": [
    "---\n",
    "## Run your trained agent for a random episode!\n",
    "\n",
    "---"
   ]
  },
  {
   "cell_type": "code",
   "execution_count": 11,
   "metadata": {},
   "outputs": [
    {
     "name": "stdout",
     "output_type": "stream",
     "text": [
      "500.0\n"
     ]
    }
   ],
   "source": [
    "s = env.reset()\n",
    "total_reward = 0\n",
    "while True:\n",
    "    a = sess.run(action,feed_dict={S:np.atleast_2d(s)})[0]\n",
    "    sp, r, d, _ = env.step(a)\n",
    "        \n",
    "    env.render()\n",
    "\n",
    "    total_reward += r\n",
    "    s = sp\n",
    "    if d:\n",
    "        print(total_reward)\n",
    "        break"
   ]
  }
 ],
 "metadata": {
  "kernelspec": {
   "display_name": "Python 3",
   "language": "python",
   "name": "python3"
  },
  "language_info": {
   "codemirror_mode": {
    "name": "ipython",
    "version": 3
   },
   "file_extension": ".py",
   "mimetype": "text/x-python",
   "name": "python",
   "nbconvert_exporter": "python",
   "pygments_lexer": "ipython3",
   "version": "3.6.2"
  }
 },
 "nbformat": 4,
 "nbformat_minor": 2
}
