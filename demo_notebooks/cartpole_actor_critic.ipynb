{
 "cells": [
  {
   "cell_type": "code",
   "execution_count": 1,
   "metadata": {},
   "outputs": [],
   "source": [
    "import numpy as np\n",
    "import tensorflow as tf\n",
    "import gym\n",
    "import matplotlib.pyplot as plt\n",
    "%matplotlib inline"
   ]
  },
  {
   "cell_type": "code",
   "execution_count": 2,
   "metadata": {},
   "outputs": [
    {
     "name": "stdout",
     "output_type": "stream",
     "text": [
      "\u001b[33mWARN: gym.spaces.Box autodetected dtype as <class 'numpy.float32'>. Please provide explicit dtype.\u001b[0m\n"
     ]
    }
   ],
   "source": [
    "env = gym.make('CartPole-v1')"
   ]
  },
  {
   "cell_type": "code",
   "execution_count": 3,
   "metadata": {},
   "outputs": [],
   "source": [
    "from collections import deque\n",
    "\n",
    "class Memory:\n",
    "    def __init__(self, capacity=50):\n",
    "        self.memories = deque()\n",
    "        self.capacity = capacity\n",
    "        self.n = len(self.memories)\n",
    "    \n",
    "    def forget(self):\n",
    "        self.memories.popleft()\n",
    "        self.n -= 1\n",
    "    \n",
    "    def remember(self, experience):\n",
    "        self.memories.append(experience)\n",
    "        self.n += 1\n",
    "        if len(self.memories) > self.capacity:\n",
    "            self.forget()\n",
    "        \n",
    "    def sample(self, n=1):\n",
    "        idx = np.random.choice(range(len(self.memories)),n)\n",
    "        return np.take(self.memories, idx, axis=0)"
   ]
  },
  {
   "cell_type": "code",
   "execution_count": 4,
   "metadata": {},
   "outputs": [],
   "source": [
    "#--------------------------------\n",
    "# Defining Actor and Critic networks below\n",
    "#--------------------------------\n",
    "tf.reset_default_graph()\n",
    "\n",
    "# environment dimensions\n",
    "s_shape = env.observation_space.shape[0]\n",
    "a_shape = env.action_space.n"
   ]
  },
  {
   "cell_type": "code",
   "execution_count": 5,
   "metadata": {},
   "outputs": [],
   "source": [
    "#--------------------------------\n",
    "# Critic Neural Network (evaluates Actor decisions based on utility)\n",
    "#--------------------------------\n",
    "\n",
    "# input placeholder\n",
    "S = tf.placeholder(tf.float32,[None,s_shape],name='state_input')\n",
    "\n",
    "# simple mlp with \"s_shape\" inputs, 20 hidden units, 1 output\n",
    "hc=20\n",
    "w1c = tf.get_variable(\"W1c\", [s_shape,hc], initializer = tf.keras.initializers.he_normal(seed=1))\n",
    "b1c = tf.get_variable(\"B1c\", [1,hc], initializer = tf.keras.initializers.he_normal(seed=1))\n",
    "z1c = tf.add(tf.matmul(S,w1c),b1c)\n",
    "a1c = tf.nn.relu(z1c)\n",
    "\n",
    "w2c = tf.get_variable(\"W2c\", [hc,1], initializer = tf.keras.initializers.he_normal(seed=1))\n",
    "b2c = tf.get_variable(\"B2c\", [1,1], initializer = tf.keras.initializers.he_normal(seed=1))\n",
    "Qnet = tf.add(tf.matmul(a1c,w2c),b2c)\n",
    "\n",
    "# loss = MSE q value prediction\n",
    "Qtarget = tf.placeholder(shape=[None,],dtype=tf.float32)\n",
    "loss_c = tf.reduce_mean(tf.square(tf.subtract(Qtarget,Qnet)))\n",
    "trainer_c = tf.train.AdamOptimizer()\n",
    "updateCritic = trainer_c.minimize(loss_c)"
   ]
  },
  {
   "cell_type": "code",
   "execution_count": 6,
   "metadata": {},
   "outputs": [
    {
     "name": "stdout",
     "output_type": "stream",
     "text": [
      "WARNING:tensorflow:From <ipython-input-6-0bace9c63987>:25: softmax_cross_entropy_with_logits (from tensorflow.python.ops.nn_ops) is deprecated and will be removed in a future version.\n",
      "Instructions for updating:\n",
      "\n",
      "Future major versions of TensorFlow will allow gradients to flow\n",
      "into the labels input on backprop by default.\n",
      "\n",
      "See @{tf.nn.softmax_cross_entropy_with_logits_v2}.\n",
      "\n"
     ]
    }
   ],
   "source": [
    "#--------------------------------\n",
    "# Actor Neural Network (learns non-deterministic policy based on critic feedback)\n",
    "#--------------------------------\n",
    "\n",
    "# input placeholder\n",
    "actions = tf.placeholder(tf.int32, [None, a_shape], name='true_actions')\n",
    "td_error = tf.placeholder(tf.float32, [None,], name='temporal_difference_error')\n",
    "\n",
    "# simple mlp with \"s_shape\" inputs, 20 hidden units, \"a_shape\" outputs\n",
    "ha=20\n",
    "w1a = tf.get_variable(\"W1a\", [s_shape, ha], initializer = tf.keras.initializers.he_normal(seed=1))\n",
    "b1a = tf.get_variable(\"B1a\", [1, ha], initializer = tf.keras.initializers.he_normal(seed=1))\n",
    "z1a = tf.add(tf.matmul(S,w1a),b1a)\n",
    "a1a = tf.nn.relu(z1a)\n",
    "\n",
    "w2a = tf.get_variable(\"W2a\", [ha, a_shape], initializer = tf.keras.initializers.he_normal(seed=1))\n",
    "b2a = tf.get_variable(\"B2a\", [1, a_shape], initializer = tf.keras.initializers.he_normal(seed=1))\n",
    "logits = tf.add(tf.matmul(a1a,w2a),b2a)\n",
    "\n",
    "# non-deterministic actions \n",
    "softmax_output = tf.nn.softmax(logits)\n",
    "\n",
    "# loss = log likelihood action probabilities modulated by critic feedback\n",
    "labels = actions\n",
    "neg_log_likelihood = tf.nn.softmax_cross_entropy_with_logits(labels=labels, logits=logits)\n",
    "loss_a = tf.reduce_mean(neg_log_likelihood * td_error)\n",
    "trainer_a = tf.train.AdamOptimizer()\n",
    "updateActor = trainer_a.minimize(loss_a)"
   ]
  },
  {
   "cell_type": "markdown",
   "metadata": {},
   "source": [
    "Critic Network | Actor Network\n",
    "-|-\n",
    "![network_diagram](../diagrams/critic_network_img \"Critic-Network Structure\") | ![network_diagram](../diagrams/actor_network_img \"Actor-Network Structure\")"
   ]
  },
  {
   "cell_type": "code",
   "execution_count": 7,
   "metadata": {},
   "outputs": [],
   "source": [
    "sess = tf.Session()\n",
    "sess.run(tf.global_variables_initializer())"
   ]
  },
  {
   "cell_type": "code",
   "execution_count": 8,
   "metadata": {},
   "outputs": [],
   "source": [
    "#--------------------------------\n",
    "# Learning parameters\n",
    "#--------------------------------\n",
    "alpha = 0.5\n",
    "gamma = 0.99\n",
    "epsilon = 1.0\n",
    "decay = 0.999\n",
    "\n",
    "alpha_min = 0.1\n",
    "epsilon_min = 0.1"
   ]
  },
  {
   "cell_type": "code",
   "execution_count": 10,
   "metadata": {
    "scrolled": false
   },
   "outputs": [
    {
     "name": "stdout",
     "output_type": "stream",
     "text": [
      "Episode 0: Avg Reward = 16.0, Exploration Rate = 1.000, Actor Loss = -3.986, Critic Loss = 1.750\n",
      "Episode 50: Avg Reward = 20.42, Exploration Rate = 0.951, Actor Loss = -1.855, Critic Loss = 21.738\n",
      "Episode 100: Avg Reward = 19.22, Exploration Rate = 0.905, Actor Loss = -0.010, Critic Loss = 28.293\n",
      "Episode 150: Avg Reward = 18.56, Exploration Rate = 0.861, Actor Loss = -35.957, Critic Loss = 41.900\n",
      "Episode 200: Avg Reward = 18.38, Exploration Rate = 0.819, Actor Loss = -0.000, Critic Loss = 16.248\n",
      "Episode 250: Avg Reward = 17.74, Exploration Rate = 0.779, Actor Loss = -0.037, Critic Loss = 38.717\n",
      "Episode 300: Avg Reward = 16.78, Exploration Rate = 0.741, Actor Loss = -0.001, Critic Loss = 9.582\n",
      "Episode 350: Avg Reward = 15.44, Exploration Rate = 0.705, Actor Loss = -0.173, Critic Loss = 19.524\n",
      "Episode 400: Avg Reward = 21.98, Exploration Rate = 0.670, Actor Loss = -0.788, Critic Loss = 11.385\n",
      "Episode 450: Avg Reward = 31.94, Exploration Rate = 0.637, Actor Loss = -11.627, Critic Loss = 135.239\n",
      "Episode 500: Avg Reward = 43.82, Exploration Rate = 0.606, Actor Loss = -0.031, Critic Loss = 189.004\n",
      "Episode 550: Avg Reward = 40.62, Exploration Rate = 0.577, Actor Loss = -0.000, Critic Loss = 197.320\n",
      "Episode 600: Avg Reward = 53.26, Exploration Rate = 0.549, Actor Loss = -0.000, Critic Loss = 178.202\n",
      "Episode 650: Avg Reward = 52.58, Exploration Rate = 0.522, Actor Loss = -0.000, Critic Loss = 227.032\n",
      "Episode 700: Avg Reward = 58.34, Exploration Rate = 0.496, Actor Loss = -0.000, Critic Loss = 293.567\n",
      "Episode 750: Avg Reward = 75.1, Exploration Rate = 0.472, Actor Loss = -0.000, Critic Loss = 307.909\n",
      "Episode 800: Avg Reward = 69.96, Exploration Rate = 0.449, Actor Loss = -7.642, Critic Loss = 397.584\n",
      "Episode 850: Avg Reward = 81.06, Exploration Rate = 0.427, Actor Loss = -0.000, Critic Loss = 410.272\n",
      "Episode 900: Avg Reward = 105.6, Exploration Rate = 0.406, Actor Loss = -0.000, Critic Loss = 200.302\n",
      "Episode 950: Avg Reward = 141.22, Exploration Rate = 0.387, Actor Loss = -0.000, Critic Loss = 614.278\n",
      "Episode 1000: Avg Reward = 175.78, Exploration Rate = 0.368, Actor Loss = -0.000, Critic Loss = 1118.728\n",
      "Episode 1050: Avg Reward = 137.34, Exploration Rate = 0.350, Actor Loss = -4594.040, Critic Loss = 306.276\n",
      "Episode 1100: Avg Reward = 176.92, Exploration Rate = 0.333, Actor Loss = -0.000, Critic Loss = 268.535\n",
      "Episode 1150: Avg Reward = 172.66, Exploration Rate = 0.316, Actor Loss = -0.000, Critic Loss = 1164.551\n",
      "Episode 1200: Avg Reward = 195.64, Exploration Rate = 0.301, Actor Loss = -0.000, Critic Loss = 588.709\n",
      "Episode 1250: Avg Reward = 138.5, Exploration Rate = 0.286, Actor Loss = -0.000, Critic Loss = 117.737\n",
      "Episode 1300: Avg Reward = 90.7, Exploration Rate = 0.272, Actor Loss = 0.000, Critic Loss = 17.386\n",
      "Episode 1350: Avg Reward = 152.52, Exploration Rate = 0.259, Actor Loss = -0.000, Critic Loss = 1240.426\n",
      "Episode 1400: Avg Reward = 162.2, Exploration Rate = 0.246, Actor Loss = 103.607, Critic Loss = 5.400\n",
      "Episode 1450: Avg Reward = 169.14, Exploration Rate = 0.234, Actor Loss = -0.000, Critic Loss = 133.118\n",
      "Episode 1500: Avg Reward = 201.98, Exploration Rate = 0.223, Actor Loss = 0.000, Critic Loss = 0.668\n",
      "Episode 1550: Avg Reward = 200.0, Exploration Rate = 0.212, Actor Loss = 0.000, Critic Loss = 63.068\n",
      "Episode 1600: Avg Reward = 219.3, Exploration Rate = 0.202, Actor Loss = -0.000, Critic Loss = 429.385\n",
      "Episode 1650: Avg Reward = 331.82, Exploration Rate = 0.192, Actor Loss = -0.000, Critic Loss = 242.651\n",
      "Episode 1700: Avg Reward = 407.68, Exploration Rate = 0.183, Actor Loss = -0.000, Critic Loss = 1528.926\n",
      "Episode 1750: Avg Reward = 482.32, Exploration Rate = 0.174, Actor Loss = -24.077, Critic Loss = 1700.722\n",
      "Episode 1800: Avg Reward = 498.14, Exploration Rate = 0.165, Actor Loss = -0.000, Critic Loss = 1413.874\n",
      "Episode 1850: Avg Reward = 348.92, Exploration Rate = 0.157, Actor Loss = -0.000, Critic Loss = 297.433\n",
      "Episode 1900: Avg Reward = 246.54, Exploration Rate = 0.149, Actor Loss = -0.775, Critic Loss = 429.525\n",
      "Episode 1950: Avg Reward = 355.48, Exploration Rate = 0.142, Actor Loss = -0.000, Critic Loss = 488.818\n"
     ]
    }
   ],
   "source": [
    "n_episodes = 2000\n",
    "N_ACTIONS = env.action_space.n\n",
    "reward_history = []\n",
    "\n",
    "#--------------------------------\n",
    "# Iterate through pole balancing episodes\n",
    "#--------------------------------\n",
    "for episode in range(n_episodes):\n",
    "    \n",
    "    s = env.reset()\n",
    "    rsum = 0\n",
    "    explore_rate = max(epsilon_min, epsilon*decay**episode)\n",
    "\n",
    "    #--------------------------------\n",
    "    # individual steps through a single episode\n",
    "    #--------------------------------\n",
    "    while True:\n",
    "        #--------------------------------\n",
    "        # Non-deterministic actions from actor network\n",
    "        #--------------------------------\n",
    "        policy_output = sess.run(softmax_output, feed_dict={S:np.atleast_2d(s)})\n",
    "        a = np.random.choice(range(len(policy_output.ravel())), p=policy_output.ravel())\n",
    "        if np.random.uniform() < explore_rate:\n",
    "            a = np.random.choice(range(N_ACTIONS))  \n",
    "            \n",
    "        #--------------------------------\n",
    "        # Take selected action\n",
    "        #--------------------------------    \n",
    "        sp, r, d, _ = env.step(a)\n",
    "        \n",
    "        #--------------------------------\n",
    "        # TD Error for critic update\n",
    "        #--------------------------------\n",
    "        Q = sess.run(Qnet,feed_dict={S:np.atleast_2d(s)})\n",
    "        Qp = sess.run(Qnet,feed_dict={S:np.atleast_2d(sp)})\n",
    "\n",
    "        if d:\n",
    "            Qupdate = (1-alpha)*Q + alpha*(r)\n",
    "        else:\n",
    "            Qupdate = (1-alpha)*Q + alpha*(r+gamma*Qp)\n",
    "        tde = Qupdate-Q\n",
    "        \n",
    "        _, lc = sess.run([updateCritic,loss_c], feed_dict={S:np.atleast_2d(s),Qtarget:Qupdate.ravel()})\n",
    "        a_ohe = np.atleast_2d(np.eye(2)[a])\n",
    "        _, la = sess.run([updateActor,loss_a], feed_dict={S:np.atleast_2d(s),actions:a_ohe,td_error:tde.ravel()})\n",
    "\n",
    "        s = sp\n",
    "        rsum += r\n",
    "        if d:\n",
    "            break\n",
    "\n",
    "    reward_history.append(rsum)\n",
    "    #--------------------------------\n",
    "    # Print out progress indicators \n",
    "    #--------------------------------\n",
    "    if episode%50==0:\n",
    "        print(\"Episode {}: Avg Reward = {}, Exploration Rate = {:.3f}, Actor Loss = {:.3f}, Critic Loss = {:.3f}\".format(\n",
    "            episode,np.mean(reward_history[-50:]),explore_rate,la,lc))"
   ]
  },
  {
   "cell_type": "code",
   "execution_count": 11,
   "metadata": {},
   "outputs": [],
   "source": [
    "def running_mean(x, N):\n",
    "    cumsum = np.cumsum(np.insert(x, 0, 0)) \n",
    "    return (cumsum[N:] - cumsum[:-N]) / float(N)"
   ]
  },
  {
   "cell_type": "code",
   "execution_count": 12,
   "metadata": {},
   "outputs": [
    {
     "data": {
      "text/plain": [
       "[<matplotlib.lines.Line2D at 0x116dac2e8>]"
      ]
     },
     "execution_count": 12,
     "metadata": {},
     "output_type": "execute_result"
    },
    {
     "data": {
      "image/png": "[encoded data removed]",
      "text/plain": [
       "<Figure size 432x288 with 1 Axes>"
      ]
     },
     "metadata": {},
     "output_type": "display_data"
    }
   ],
   "source": [
    "plt.plot(reward_history)"
   ]
  },
  {
   "cell_type": "code",
   "execution_count": 13,
   "metadata": {},
   "outputs": [
    {
     "data": {
      "text/plain": [
       "[<matplotlib.lines.Line2D at 0x116e09438>]"
      ]
     },
     "execution_count": 13,
     "metadata": {},
     "output_type": "execute_result"
    },
    {
     "data": {
      "image/png": "[encoded data removed]",
      "text/plain": [
       "<Figure size 432x288 with 1 Axes>"
      ]
     },
     "metadata": {},
     "output_type": "display_data"
    }
   ],
   "source": [
    "rmoving = running_mean(reward_history, 50)\n",
    "plt.plot(rmoving)"
   ]
  },
  {
   "cell_type": "markdown",
   "metadata": {},
   "source": [
    "---\n",
    "## Run your trained agent for a random episode!\n",
    "\n",
    "---"
   ]
  },
  {
   "cell_type": "code",
   "execution_count": 14,
   "metadata": {},
   "outputs": [
    {
     "name": "stdout",
     "output_type": "stream",
     "text": [
      "500.0\n"
     ]
    }
   ],
   "source": [
    "s = env.reset()\n",
    "total_reward = 0\n",
    "while True:\n",
    "    policy_output = sess.run(softmax_output, feed_dict={S:np.atleast_2d(s)})\n",
    "    a = np.random.choice(range(len(policy_output.ravel())), p=policy_output.ravel())\n",
    "    sp, r, d, _ = env.step(a)\n",
    "        \n",
    "    env.render()\n",
    "\n",
    "    total_reward += r\n",
    "    s = sp\n",
    "    if d:\n",
    "        print(total_reward)\n",
    "        break"
   ]
  }
 ],
 "metadata": {
  "kernelspec": {
   "display_name": "Python 3",
   "language": "python",
   "name": "python3"
  },
  "language_info": {
   "codemirror_mode": {
    "name": "ipython",
    "version": 3
   },
   "file_extension": ".py",
   "mimetype": "text/x-python",
   "name": "python",
   "nbconvert_exporter": "python",
   "pygments_lexer": "ipython3",
   "version": "3.6.2"
  }
 },
 "nbformat": 4,
 "nbformat_minor": 2
}
