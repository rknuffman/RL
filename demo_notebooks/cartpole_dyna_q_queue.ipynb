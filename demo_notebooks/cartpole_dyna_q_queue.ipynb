{
 "cells": [
  {
   "cell_type": "code",
   "execution_count": 1,
   "metadata": {},
   "outputs": [],
   "source": [
    "import numpy as np\n",
    "import tensorflow as tf\n",
    "import gym\n",
    "import math\n",
    "import matplotlib.pyplot as plt"
   ]
  },
  {
   "cell_type": "code",
   "execution_count": 2,
   "metadata": {},
   "outputs": [
    {
     "name": "stdout",
     "output_type": "stream",
     "text": [
      "\u001b[33mWARN: gym.spaces.Box autodetected dtype as <class 'numpy.float32'>. Please provide explicit dtype.\u001b[0m\n"
     ]
    }
   ],
   "source": [
    "env = gym.make('CartPole-v1')"
   ]
  },
  {
   "cell_type": "code",
   "execution_count": 3,
   "metadata": {},
   "outputs": [],
   "source": [
    "n_states = env.observation_space.shape[0]\n",
    "STATE_BOUNDS = list(zip(env.observation_space.low, env.observation_space.high))\n",
    "n_actions = env.action_space.n"
   ]
  },
  {
   "cell_type": "code",
   "execution_count": 4,
   "metadata": {},
   "outputs": [
    {
     "data": {
      "text/plain": [
       "[(-4.8, 4.8),\n",
       " (-3.4028235e+38, 3.4028235e+38),\n",
       " (-0.41887903, 0.41887903),\n",
       " (-3.4028235e+38, 3.4028235e+38)]"
      ]
     },
     "execution_count": 4,
     "metadata": {},
     "output_type": "execute_result"
    }
   ],
   "source": [
    "STATE_BOUNDS"
   ]
  },
  {
   "cell_type": "code",
   "execution_count": 5,
   "metadata": {},
   "outputs": [],
   "source": [
    "STATE_BOUNDS[1] = (-1.,1.)\n",
    "STATE_BOUNDS[3] = (-1.,1.)"
   ]
  },
  {
   "cell_type": "code",
   "execution_count": 6,
   "metadata": {},
   "outputs": [],
   "source": [
    "def discretize(obs, bounds, bincount):\n",
    "    s = np.zeros_like(obs, dtype='int')\n",
    "    \n",
    "    for i in range(len(obs)):\n",
    "        s[i] = np.digitize(obs[i], np.linspace(bounds[i][0],bounds[i][1],bincount[i]))-1\n",
    "        \n",
    "    return tuple(s)"
   ]
  },
  {
   "cell_type": "code",
   "execution_count": 7,
   "metadata": {},
   "outputs": [
    {
     "name": "stdout",
     "output_type": "stream",
     "text": [
      "Q Table shape is (30, 30, 30, 30, 2)\n"
     ]
    }
   ],
   "source": [
    "s_buckets = (30,30,30,30)\n",
    "q_table = np.zeros(s_buckets + (n_actions,))\n",
    "\n",
    "print(\"Q Table shape is {}\".format(q_table.shape))"
   ]
  },
  {
   "cell_type": "code",
   "execution_count": 8,
   "metadata": {},
   "outputs": [],
   "source": [
    "from collections import deque\n",
    "\n",
    "#--------------------------------\n",
    "# Memory structure for storing past experience tuples\n",
    "#--------------------------------\n",
    "class Memory:\n",
    "    def __init__(self, capacity=50):\n",
    "        self.memories = deque()\n",
    "        self.capacity = capacity\n",
    "        self.n = len(self.memories)\n",
    "    \n",
    "    def forget(self):\n",
    "        self.memories.popleft()\n",
    "        self.n -= 1\n",
    "    \n",
    "    def remember(self, experience):\n",
    "        self.memories.append(experience)\n",
    "        self.n += 1\n",
    "        if len(self.memories) > self.capacity:\n",
    "            self.forget()\n",
    "        \n",
    "    def sample(self, n=1):\n",
    "        idx = np.random.choice(range(len(self.memories)),n)\n",
    "        return np.take(self.memories, idx, axis=0)"
   ]
  },
  {
   "cell_type": "code",
   "execution_count": 9,
   "metadata": {},
   "outputs": [],
   "source": [
    "#--------------------------------\n",
    "# Learning parameters\n",
    "#--------------------------------\n",
    "alpha = 0.9\n",
    "dyna_alpha = 0.1\n",
    "gamma = 0.99\n",
    "epsilon = 1.0\n",
    "decay = 0.998\n",
    "\n",
    "alpha_min = 0.1\n",
    "epsilon_min = 0.1"
   ]
  },
  {
   "cell_type": "code",
   "execution_count": 10,
   "metadata": {
    "scrolled": true
   },
   "outputs": [
    {
     "name": "stdout",
     "output_type": "stream",
     "text": [
      "Episode 0: Avg Reward = 45.0, Exploration Rate = 1.000\n",
      "Episode 50: Avg Reward = 19.8, Exploration Rate = 0.905\n",
      "Episode 100: Avg Reward = 21.72, Exploration Rate = 0.819\n",
      "Episode 150: Avg Reward = 22.02, Exploration Rate = 0.741\n",
      "Episode 200: Avg Reward = 30.74, Exploration Rate = 0.670\n",
      "Episode 250: Avg Reward = 32.22, Exploration Rate = 0.606\n",
      "Episode 300: Avg Reward = 35.9, Exploration Rate = 0.548\n",
      "Episode 350: Avg Reward = 33.3, Exploration Rate = 0.496\n",
      "Episode 400: Avg Reward = 38.68, Exploration Rate = 0.449\n",
      "Episode 450: Avg Reward = 55.12, Exploration Rate = 0.406\n",
      "Episode 500: Avg Reward = 64.02, Exploration Rate = 0.368\n",
      "Episode 550: Avg Reward = 77.88, Exploration Rate = 0.333\n",
      "Episode 600: Avg Reward = 83.62, Exploration Rate = 0.301\n",
      "Episode 650: Avg Reward = 102.9, Exploration Rate = 0.272\n",
      "Episode 700: Avg Reward = 107.76, Exploration Rate = 0.246\n",
      "Episode 750: Avg Reward = 123.4, Exploration Rate = 0.223\n",
      "Episode 800: Avg Reward = 94.06, Exploration Rate = 0.202\n",
      "Episode 850: Avg Reward = 125.96, Exploration Rate = 0.182\n",
      "Episode 900: Avg Reward = 141.78, Exploration Rate = 0.165\n",
      "Episode 950: Avg Reward = 162.72, Exploration Rate = 0.149\n"
     ]
    }
   ],
   "source": [
    "n_episodes = 1000\n",
    "reward_history = []\n",
    "experience_replay = Memory(capacity=5000)\n",
    "hallucination_cnt = 20\n",
    "\n",
    "#--------------------------------\n",
    "# Iterate through pole balancing episodes\n",
    "#--------------------------------\n",
    "for episode in range(n_episodes):\n",
    "    \n",
    "    s = env.reset()\n",
    "    rsum = 0\n",
    "    explore_rate = max(epsilon_min, epsilon*decay**episode)\n",
    "    \n",
    "    #--------------------------------\n",
    "    # individual steps through a single episode\n",
    "    #--------------------------------\n",
    "    while True:\n",
    "        #--------------------------------\n",
    "        # Epsilon greedy policy for selecting actions\n",
    "        #--------------------------------\n",
    "        sd = discretize(s,STATE_BOUNDS,s_buckets)\n",
    "        a =  np.argmax(q_table[sd])\n",
    "        if np.random.uniform() < explore_rate:\n",
    "            a = np.random.choice(range(n_actions))\n",
    "            \n",
    "        #--------------------------------\n",
    "        # Take selected action\n",
    "        #--------------------------------            \n",
    "        sp, r, d, _ = env.step(a)\n",
    "        spd = discretize(sp,STATE_BOUNDS,s_buckets)\n",
    "        \n",
    "        #--------------------------------\n",
    "        # hallucinate \n",
    "        #--------------------------------\n",
    "        experience_replay.remember((sd,a,r,spd,d))\n",
    "        if experience_replay.n > 100:\n",
    "            for i in range(hallucination_cnt):\n",
    "                h_sd, h_a, h_r, h_spd, h_d = experience_replay.sample()[0]\n",
    "                if h_d:\n",
    "                    q_table[h_sd + (h_a,)] = (1-dyna_alpha)*q_table[h_sd + (h_a,)] + dyna_alpha*(h_r)            \n",
    "                else:        \n",
    "                    q_table[h_sd + (h_a,)] = (1-dyna_alpha)*q_table[h_sd + (h_a,)] + dyna_alpha*(h_r + gamma*max(q_table[h_spd]))\n",
    "                \n",
    "        #--------------------------------\n",
    "        # Update Q table with experience tuple\n",
    "        #--------------------------------        \n",
    "        if d:\n",
    "            q_table[sd + (a,)] = (1-alpha)*q_table[sd + (a,)] + alpha*(r)            \n",
    "        else:        \n",
    "            q_table[sd + (a,)] = (1-alpha)*q_table[sd + (a,)] + alpha*(r + gamma*max(q_table[spd]))\n",
    "        \n",
    "        s = sp\n",
    "        rsum += r\n",
    "        if d:\n",
    "            break\n",
    "\n",
    "    reward_history.append(rsum)\n",
    "    #--------------------------------\n",
    "    # Print out progress indicators \n",
    "    #--------------------------------\n",
    "    if episode%50==0:\n",
    "        print(\"Episode {}: Avg Reward = {}, Exploration Rate = {:.3f}\".format(episode,np.mean(reward_history[-50:]),explore_rate))"
   ]
  },
  {
   "cell_type": "code",
   "execution_count": 11,
   "metadata": {},
   "outputs": [],
   "source": [
    "def running_mean(x, N):\n",
    "    cumsum = np.cumsum(np.insert(x, 0, 0)) \n",
    "    return (cumsum[N:] - cumsum[:-N]) / float(N)"
   ]
  },
  {
   "cell_type": "code",
   "execution_count": 12,
   "metadata": {},
   "outputs": [
    {
     "data": {
      "text/plain": [
       "[<matplotlib.lines.Line2D at 0x1155a3e48>]"
      ]
     },
     "execution_count": 12,
     "metadata": {},
     "output_type": "execute_result"
    },
    {
     "data": {
      "image/png": "[encoded data removed]",
      "text/plain": [
       "<Figure size 432x288 with 1 Axes>"
      ]
     },
     "metadata": {},
     "output_type": "display_data"
    }
   ],
   "source": [
    "plt.plot(reward_history)"
   ]
  },
  {
   "cell_type": "code",
   "execution_count": 13,
   "metadata": {},
   "outputs": [
    {
     "data": {
      "text/plain": [
       "[<matplotlib.lines.Line2D at 0x116601dd8>]"
      ]
     },
     "execution_count": 13,
     "metadata": {},
     "output_type": "execute_result"
    },
    {
     "data": {
      "image/png": "[encoded data removed]",
      "text/plain": [
       "<Figure size 432x288 with 1 Axes>"
      ]
     },
     "metadata": {},
     "output_type": "display_data"
    }
   ],
   "source": [
    "rmoving = running_mean(reward_history, 50)\n",
    "plt.plot(rmoving)"
   ]
  },
  {
   "cell_type": "markdown",
   "metadata": {},
   "source": [
    "---\n",
    "## Run your trained agent for a random episode!\n",
    "\n",
    "---"
   ]
  },
  {
   "cell_type": "code",
   "execution_count": 16,
   "metadata": {},
   "outputs": [
    {
     "name": "stdout",
     "output_type": "stream",
     "text": [
      "500.0\n"
     ]
    }
   ],
   "source": [
    "s = env.reset()\n",
    "total_reward = 0\n",
    "while True:\n",
    "    sd = discretize(s,STATE_BOUNDS,s_buckets)\n",
    "    a =  np.argmax(q_table[sd])\n",
    "\n",
    "    sp, r, d, _ = env.step(a)\n",
    "    env.render()\n",
    "\n",
    "    total_reward += r\n",
    "    s = sp\n",
    "    if d:\n",
    "        print(total_reward)\n",
    "        break"
   ]
  }
 ],
 "metadata": {
  "kernelspec": {
   "display_name": "Python 3",
   "language": "python",
   "name": "python3"
  },
  "language_info": {
   "codemirror_mode": {
    "name": "ipython",
    "version": 3
   },
   "file_extension": ".py",
   "mimetype": "text/x-python",
   "name": "python",
   "nbconvert_exporter": "python",
   "pygments_lexer": "ipython3",
   "version": "3.6.2"
  }
 },
 "nbformat": 4,
 "nbformat_minor": 2
}
