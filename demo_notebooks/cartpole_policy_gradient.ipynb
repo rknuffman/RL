{
 "cells": [
  {
   "cell_type": "code",
   "execution_count": 1,
   "metadata": {},
   "outputs": [],
   "source": [
    "import numpy as np\n",
    "import tensorflow as tf\n",
    "import gym\n",
    "import matplotlib.pyplot as plt\n",
    "%matplotlib inline"
   ]
  },
  {
   "cell_type": "code",
   "execution_count": 2,
   "metadata": {},
   "outputs": [
    {
     "name": "stdout",
     "output_type": "stream",
     "text": [
      "\u001b[33mWARN: gym.spaces.Box autodetected dtype as <class 'numpy.float32'>. Please provide explicit dtype.\u001b[0m\n"
     ]
    }
   ],
   "source": [
    "env = gym.make('CartPole-v1')"
   ]
  },
  {
   "cell_type": "markdown",
   "metadata": {},
   "source": [
    "---\n",
    "# Policy Gradient\n",
    "---\n",
    "### Policy-based methods predict actions directly.\n",
    "\n",
    "E.g. \n",
    "\n",
    "Value-based: $S \\times A \\rightarrow Q$\n",
    "\n",
    "Policy-based: $S \\rightarrow A$"
   ]
  },
  {
   "cell_type": "code",
   "execution_count": 3,
   "metadata": {},
   "outputs": [],
   "source": [
    "def discount_and_norm_rewards(r, gamma, norm=True):\n",
    "        dnr = np.zeros_like(r)\n",
    "        cumulative = 0\n",
    "        for t in reversed(range(len(r))):\n",
    "            cumulative = cumulative * gamma + r[t]\n",
    "            dnr[t] = cumulative\n",
    "        if norm:\n",
    "            dnr -= np.mean(dnr)\n",
    "            dnr /= np.std(dnr)\n",
    "        return dnr"
   ]
  },
  {
   "cell_type": "code",
   "execution_count": 4,
   "metadata": {},
   "outputs": [
    {
     "name": "stdout",
     "output_type": "stream",
     "text": [
      "State / Action / Reward\n"
     ]
    },
    {
     "data": {
      "text/plain": [
       "[(array([ 0.02275145, -0.2287418 , -0.01490167,  0.29688753]), 0, 1.0),\n",
       " (array([ 0.01817661, -0.03341062, -0.00896392, -0.00045764]), 1, 1.0),\n",
       " (array([ 0.0175084 ,  0.16183873, -0.00897308, -0.29595526]), 1, 1.0),\n",
       " (array([ 0.02074518, -0.03315416, -0.01489218, -0.00611575]), 0, 1.0),\n",
       " (array([ 0.02008209,  0.16217816, -0.0150145 , -0.30345988]), 1, 1.0),\n",
       " (array([ 0.02332566,  0.35751084, -0.02108369, -0.60083997]), 1, 1.0),\n",
       " (array([ 0.03047587,  0.55292129, -0.03310049, -0.90008865]), 1, 1.0),\n",
       " (array([ 0.0415343 ,  0.74847578, -0.05110227, -1.20298947]), 1, 1.0),\n",
       " (array([ 0.05650381,  0.94421985, -0.07516206, -1.5112398 ]), 1, 1.0),\n",
       " (array([ 0.07538821,  1.14016752, -0.10538685, -1.82640831]), 1, 1.0),\n",
       " (array([ 0.09819156,  1.33628858, -0.14191502, -2.14988418]), 1, 1.0),\n",
       " (array([ 0.12491733,  1.14282009, -0.1849127 , -1.90418197]), 0, 1.0),\n",
       " (array([ 0.14777373,  0.95011627, -0.22299634, -1.67410903]), 0, 1.0)]"
      ]
     },
     "execution_count": 4,
     "metadata": {},
     "output_type": "execute_result"
    }
   ],
   "source": [
    "# Sample sequence\n",
    "env.reset()\n",
    "s_hist, a_hist, r_hist = [], [], []\n",
    "while True:\n",
    "    a = env.action_space.sample()\n",
    "    s, r, d, _ = env.step(a)\n",
    "\n",
    "    s_hist.append(s)\n",
    "    a_hist.append(a)\n",
    "    r_hist.append(r)\n",
    "\n",
    "    if d:\n",
    "        break\n",
    "    \n",
    "print(\"State / Action / Reward\")\n",
    "list(zip(s_hist, a_hist, r_hist))"
   ]
  },
  {
   "cell_type": "code",
   "execution_count": 5,
   "metadata": {},
   "outputs": [
    {
     "data": {
      "text/plain": [
       "array([7.45813417, 7.17570464, 6.86189404, 6.5132156 , 6.12579511,\n",
       "       5.6953279 , 5.217031  , 4.68559   , 4.0951    , 3.439     ,\n",
       "       2.71      , 1.9       , 1.        ])"
      ]
     },
     "execution_count": 5,
     "metadata": {},
     "output_type": "execute_result"
    }
   ],
   "source": [
    "discount_and_norm_rewards(r_hist, .9, 0)"
   ]
  },
  {
   "cell_type": "code",
   "execution_count": 6,
   "metadata": {},
   "outputs": [
    {
     "name": "stdout",
     "output_type": "stream",
     "text": [
      "WARNING:tensorflow:From <ipython-input-6-c892d5d1787c>:31: softmax_cross_entropy_with_logits (from tensorflow.python.ops.nn_ops) is deprecated and will be removed in a future version.\n",
      "Instructions for updating:\n",
      "\n",
      "Future major versions of TensorFlow will allow gradients to flow\n",
      "into the labels input on backprop by default.\n",
      "\n",
      "See @{tf.nn.softmax_cross_entropy_with_logits_v2}.\n",
      "\n"
     ]
    }
   ],
   "source": [
    "tf.reset_default_graph()\n",
    "#--------------------------------\n",
    "# Neural Network as function approximator (replace Q table)\n",
    "#--------------------------------\n",
    "\n",
    "# environment dimensions\n",
    "s_shape = env.observation_space.shape[0]\n",
    "a_shape = env.action_space.n\n",
    "\n",
    "# input placeholders\n",
    "S = tf.placeholder(tf.float32,[None, s_shape],name='state_input')\n",
    "actions = tf.placeholder(tf.int32, [None, a_shape], name='true_actions')\n",
    "returns = tf.placeholder(tf.float32, [None,], name='discount_norm_returns')\n",
    "\n",
    "# simple mlp with \"s_shape\" inputs, 20 hidden units, \"a_shape\" outputs\n",
    "h=20\n",
    "w1 = tf.get_variable(\"W1\", [s_shape, h], initializer = tf.keras.initializers.he_normal(seed=1))\n",
    "b1 = tf.get_variable(\"B1\", [1, h], initializer = tf.keras.initializers.he_normal(seed=1))\n",
    "z1 = tf.add(tf.matmul(S,w1),b1)\n",
    "a1 = tf.nn.relu(z1)\n",
    "\n",
    "w2 = tf.get_variable(\"W2\", [h, a_shape], initializer = tf.keras.initializers.he_normal(seed=1))\n",
    "b2 = tf.get_variable(\"B2\", [1, a_shape], initializer = tf.keras.initializers.he_normal(seed=1))\n",
    "logits = tf.add(tf.matmul(a1,w2),b2)\n",
    "\n",
    "# non-deterministic actions \n",
    "softmax_output = tf.nn.softmax(logits)\n",
    "\n",
    "# loss = log likelihood action probabilities modulated by discounted return\n",
    "labels = actions\n",
    "neg_log_likelihood = tf.nn.softmax_cross_entropy_with_logits(labels=labels, logits=logits)\n",
    "loss = tf.reduce_mean(neg_log_likelihood * returns)\n",
    "trainer = tf.train.AdamOptimizer()\n",
    "updateModel = trainer.minimize(loss)"
   ]
  },
  {
   "cell_type": "markdown",
   "metadata": {},
   "source": [
    "![network_diagram](../diagrams/actor_network_img \"Policy Network Structure\")"
   ]
  },
  {
   "cell_type": "code",
   "execution_count": 7,
   "metadata": {},
   "outputs": [],
   "source": [
    "sess = tf.Session()\n",
    "sess.run(tf.global_variables_initializer())"
   ]
  },
  {
   "cell_type": "code",
   "execution_count": 8,
   "metadata": {
    "scrolled": false
   },
   "outputs": [
    {
     "name": "stdout",
     "output_type": "stream",
     "text": [
      "Episode 0: Avg Reward = 8.0, Loss = 0.001\n",
      "Episode 500: Avg Reward = 10.06, Loss = -0.362\n",
      "Episode 1000: Avg Reward = 13.34, Loss = -0.127\n",
      "Episode 1500: Avg Reward = 73.8, Loss = -0.004\n",
      "Episode 2000: Avg Reward = 212.62, Loss = -0.005\n",
      "Episode 2500: Avg Reward = 265.52, Loss = -0.020\n",
      "Episode 3000: Avg Reward = 363.9, Loss = -0.017\n",
      "Episode 3500: Avg Reward = 382.28, Loss = 0.022\n"
     ]
    }
   ],
   "source": [
    "n_episodes = 4000\n",
    "epi_rewards = []\n",
    "\n",
    "#--------------------------------\n",
    "# Iterate through pole balancing episodes\n",
    "#--------------------------------\n",
    "for episode in range(n_episodes):\n",
    "    s = env.reset()\n",
    "    s_hist, a_hist, r_hist = [], [], []\n",
    "\n",
    "    #--------------------------------\n",
    "    # individual steps through a single episode\n",
    "    #--------------------------------\n",
    "    while True:\n",
    "        #--------------------------------\n",
    "        # Non-deterministic actions with softmax probabilities\n",
    "        #--------------------------------\n",
    "        sin = np.atleast_2d(s)\n",
    "        policy_output = sess.run(softmax_output, feed_dict={S:sin})\n",
    "        a = np.random.choice(range(len(policy_output.ravel())), p=policy_output.ravel())\n",
    "        \n",
    "        #--------------------------------\n",
    "        # Take selected action\n",
    "        #--------------------------------\n",
    "        sp, r, d, _ = env.step(a)\n",
    "\n",
    "        #--------------------------------\n",
    "        # Keep episode history for batch update\n",
    "        #--------------------------------\n",
    "        s_hist.append(s)\n",
    "        a_hist.append(a)\n",
    "        r_hist.append(r)\n",
    "\n",
    "        s = sp\n",
    "        if d:\n",
    "            break\n",
    "    \n",
    "    #--------------------------------\n",
    "    # Batch update\n",
    "    #--------------------------------\n",
    "    epi_rewards.append(np.sum(r_hist)) #for plotting\n",
    "    epi_states = np.vstack(s_hist)\n",
    "    epi_actions = np.eye(2)[a_hist] #convert to one-hot\n",
    "    dnr = discount_and_norm_rewards(r_hist, .99, 1)\n",
    "    _,l = sess.run([updateModel,loss], feed_dict={S:epi_states, actions:epi_actions, returns:dnr})\n",
    "\n",
    "    #--------------------------------\n",
    "    # Print out progress indicators \n",
    "    #--------------------------------\n",
    "    if episode%500==0:\n",
    "        print(\"Episode {}: Avg Reward = {}, Loss = {:.3f}\".format(episode,np.mean(epi_rewards[-50:]),l))"
   ]
  },
  {
   "cell_type": "code",
   "execution_count": 9,
   "metadata": {},
   "outputs": [],
   "source": [
    "def running_mean(x, N):\n",
    "    cumsum = np.cumsum(np.insert(x, 0, 0)) \n",
    "    return (cumsum[N:] - cumsum[:-N]) / float(N)"
   ]
  },
  {
   "cell_type": "code",
   "execution_count": 10,
   "metadata": {},
   "outputs": [
    {
     "data": {
      "text/plain": [
       "[<matplotlib.lines.Line2D at 0x11492c4a8>]"
      ]
     },
     "execution_count": 10,
     "metadata": {},
     "output_type": "execute_result"
    },
    {
     "data": {
      "image/png": "[encoded data removed]",
      "text/plain": [
       "<Figure size 432x288 with 1 Axes>"
      ]
     },
     "metadata": {},
     "output_type": "display_data"
    }
   ],
   "source": [
    "plt.plot(epi_rewards)"
   ]
  },
  {
   "cell_type": "code",
   "execution_count": 11,
   "metadata": {},
   "outputs": [
    {
     "data": {
      "text/plain": [
       "[<matplotlib.lines.Line2D at 0x11497f550>]"
      ]
     },
     "execution_count": 11,
     "metadata": {},
     "output_type": "execute_result"
    },
    {
     "data": {
      "image/png": "[encoded data removed]",
      "text/plain": [
       "<Figure size 432x288 with 1 Axes>"
      ]
     },
     "metadata": {},
     "output_type": "display_data"
    }
   ],
   "source": [
    "rmoving = running_mean(epi_rewards, 50)\n",
    "plt.plot(rmoving)"
   ]
  },
  {
   "cell_type": "markdown",
   "metadata": {},
   "source": [
    "---\n",
    "## Run your trained agent for a random episode!\n",
    "\n",
    "---"
   ]
  },
  {
   "cell_type": "code",
   "execution_count": 13,
   "metadata": {},
   "outputs": [
    {
     "name": "stdout",
     "output_type": "stream",
     "text": [
      "500.0\n"
     ]
    }
   ],
   "source": [
    "s = env.reset()\n",
    "total_reward = 0\n",
    "while True:\n",
    "    policy_output = sess.run(softmax_output, feed_dict={S:np.atleast_2d(s)})\n",
    "    a = np.random.choice(range(len(policy_output.ravel())), p=policy_output.ravel())\n",
    "    sp, r, d, _ = env.step(a)\n",
    "        \n",
    "    env.render()\n",
    "\n",
    "    total_reward += r\n",
    "    s = sp\n",
    "    if d:\n",
    "        print(total_reward)\n",
    "        break"
   ]
  }
 ],
 "metadata": {
  "kernelspec": {
   "display_name": "Python 3",
   "language": "python",
   "name": "python3"
  },
  "language_info": {
   "codemirror_mode": {
    "name": "ipython",
    "version": 3
   },
   "file_extension": ".py",
   "mimetype": "text/x-python",
   "name": "python",
   "nbconvert_exporter": "python",
   "pygments_lexer": "ipython3",
   "version": "3.6.2"
  }
 },
 "nbformat": 4,
 "nbformat_minor": 2
}
