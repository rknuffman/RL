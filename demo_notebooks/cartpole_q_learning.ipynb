{
 "cells": [
  {
   "cell_type": "code",
   "execution_count": 1,
   "metadata": {},
   "outputs": [],
   "source": [
    "import numpy as np\n",
    "import tensorflow as tf\n",
    "import gym\n",
    "import math\n",
    "import matplotlib.pyplot as plt"
   ]
  },
  {
   "cell_type": "markdown",
   "metadata": {},
   "source": [
    "# CartPole\n",
    "\n",
    "---\n",
    "\n",
    "### OpenAI Gym Environment - [CartPole-v1](https://gym.openai.com/envs/CartPole-v1/) \n",
    "\n",
    "\"A pole is attached by an un-actuated joint to a cart, which moves along a frictionless track. The system is controlled by applying a force of +1 or -1 to the cart. The pendulum starts upright, and the goal is to prevent it from falling over. A reward of +1 is provided for every timestep that the pole remains upright. The episode ends when the pole is more than 15 degrees from vertical, or the cart moves more than 2.4 units from the center.\"\n",
    "\n",
    "---"
   ]
  },
  {
   "cell_type": "code",
   "execution_count": 2,
   "metadata": {},
   "outputs": [
    {
     "name": "stdout",
     "output_type": "stream",
     "text": [
      "\u001b[33mWARN: gym.spaces.Box autodetected dtype as <class 'numpy.float32'>. Please provide explicit dtype.\u001b[0m\n"
     ]
    },
    {
     "data": {
      "text/plain": [
       "<matplotlib.image.AxesImage at 0x1280d2b38>"
      ]
     },
     "execution_count": 2,
     "metadata": {},
     "output_type": "execute_result"
    },
    {
     "data": {
      "image/png": "[encoded data removed]",
      "text/plain": [
       "<Figure size 432x288 with 1 Axes>"
      ]
     },
     "metadata": {},
     "output_type": "display_data"
    }
   ],
   "source": [
    "env = gym.make('CartPole-v1')\n",
    "env.reset()\n",
    "plt.imshow(env.render(mode='rgb_array'))"
   ]
  },
  {
   "cell_type": "markdown",
   "metadata": {},
   "source": [
    "---\n",
    "\n",
    "## Environment Specifications\n",
    "\n",
    "Markov Decision Process specified by states, actions, transition probabilities, and rewards.\n",
    "\n",
    "---"
   ]
  },
  {
   "cell_type": "code",
   "execution_count": 3,
   "metadata": {},
   "outputs": [
    {
     "name": "stdout",
     "output_type": "stream",
     "text": [
      "\n",
      "State represention: 4-dimensional vector.\n",
      "\n",
      "Sample state: [4.6860966e-01 1.4645028e+38 8.6090848e-02 3.0545910e+37]\n",
      "\n",
      "Types: [<class 'numpy.float32'>, <class 'numpy.float32'>, <class 'numpy.float32'>, <class 'numpy.float32'>]\n"
     ]
    }
   ],
   "source": [
    "# States\n",
    "n_states = env.observation_space.shape[0]\n",
    "sample_state = env.observation_space.sample()\n",
    "\n",
    "print(\"\\nState represention: {0}-dimensional vector.\".format(n_states))\n",
    "print(\"\\nSample state: {0}\".format(sample_state))\n",
    "print(\"\\nTypes: {0}\".format([type(x) for x in sample_state]))"
   ]
  },
  {
   "cell_type": "markdown",
   "metadata": {},
   "source": [
    "---\n",
    "Index|\tObservation  |\tMin  |\tMax\n",
    "-----|-------------|-------|-------:\n",
    "    0|\tCart Position\t| -2.4\t| 2.4\n",
    "    1|\tCart Velocity\t| -Inf\t| Inf\n",
    "    2|\tPole Angle\t| -41.8°\t| 41.8°\n",
    "    3|\tPole Velocity At Tip\t|-Inf\t| Inf\n",
    "    \n",
    "---"
   ]
  },
  {
   "cell_type": "code",
   "execution_count": 4,
   "metadata": {},
   "outputs": [
    {
     "name": "stdout",
     "output_type": "stream",
     "text": [
      "\n",
      "Number of actions: 2\n",
      "\n",
      "Sample action: [1]\n",
      "\n",
      "Types: [<class 'int'>]\n"
     ]
    }
   ],
   "source": [
    "# Actions\n",
    "n_actions = env.action_space.n\n",
    "sample_action = [env.action_space.sample()]\n",
    "\n",
    "print(\"\\nNumber of actions: {0}\".format(n_actions))\n",
    "print(\"\\nSample action: {0}\".format(sample_action))\n",
    "print(\"\\nTypes: {0}\".format([type(x) for x in sample_action]))"
   ]
  },
  {
   "cell_type": "markdown",
   "metadata": {},
   "source": [
    "---\n",
    "Num\t| Action\n",
    "----|-------:\n",
    "0\t| Push cart to the left\n",
    "1\t| Push cart to the right\n",
    "\n",
    "---"
   ]
  },
  {
   "cell_type": "code",
   "execution_count": 6,
   "metadata": {},
   "outputs": [
    {
     "name": "stdout",
     "output_type": "stream",
     "text": [
      "State / Action / Reward\n"
     ]
    },
    {
     "data": {
      "text/plain": [
       "[(array([-0.00703989,  0.22997927,  0.02051046, -0.24570378]), 1, 1.0),\n",
       " (array([-0.0024403 ,  0.42480237,  0.01559638, -0.5318473 ]), 1, 1.0),\n",
       " (array([ 0.00605574,  0.22946456,  0.00495944, -0.23429107]), 0, 1.0),\n",
       " (array([0.01064503, 0.0342721 , 0.00027361, 0.05995208]), 0, 1.0),\n",
       " (array([ 0.01133048,  0.22939013,  0.00147266, -0.2326445 ]), 1, 1.0),\n",
       " (array([ 0.01591828,  0.03424717, -0.00318023,  0.06050258]), 0, 1.0),\n",
       " (array([ 0.01660322,  0.22941457, -0.00197018, -0.23318203]), 1, 1.0),\n",
       " (array([ 0.02119151,  0.42456462, -0.00663382, -0.52648577]), 1, 1.0),\n",
       " (array([ 0.02968281,  0.61977928, -0.01716354, -0.82125165]), 1, 1.0),\n",
       " (array([ 0.04207839,  0.81513183, -0.03358857, -1.11928315]), 1, 1.0),\n",
       " (array([ 0.05838103,  1.01067795, -0.05597423, -1.42231006]), 1, 1.0),\n",
       " (array([ 0.07859459,  0.81629118, -0.08442044, -1.14763439]), 0, 1.0),\n",
       " (array([ 0.09492041,  1.01240772, -0.10737312, -1.46555171]), 1, 1.0),\n",
       " (array([ 0.11516857,  0.81875203, -0.13668416, -1.20824812]), 0, 1.0),\n",
       " (array([ 0.13154361,  1.01534875, -0.16084912, -1.54045294]), 1, 1.0),\n",
       " (array([ 0.15185058,  1.21199807, -0.19165818, -1.87870528]), 1, 1.0),\n",
       " (array([ 0.17609054,  1.40862389, -0.22923228, -2.22424676]), 1, 1.0)]"
      ]
     },
     "execution_count": 6,
     "metadata": {},
     "output_type": "execute_result"
    }
   ],
   "source": [
    "# Sample sequence\n",
    "env.reset()\n",
    "s_hist, a_hist, r_hist = [], [], []\n",
    "while True:\n",
    "    a = env.action_space.sample()\n",
    "    s, r, d, _ = env.step(a)\n",
    "\n",
    "    s_hist.append(s)\n",
    "    a_hist.append(a)\n",
    "    r_hist.append(r)\n",
    "\n",
    "    if d:\n",
    "        break\n",
    "    \n",
    "print(\"State / Action / Reward\")\n",
    "list(zip(s_hist, a_hist, r_hist))"
   ]
  },
  {
   "cell_type": "markdown",
   "metadata": {},
   "source": [
    "---\n",
    "Let's solve this with **Q-Learning** \n",
    "\n",
    "$Q : S \\times A \\rightarrow \\mathbb{R}$\n",
    "\n",
    "Update Rule:\n",
    "\n",
    "$Q \\ (s_t \\ , \\ a_t) \\leftarrow (1-\\alpha) \\cdot Q \\ (s_t \\ , \\ a_t) + \\alpha \\cdot (r_t + \\gamma \\cdot \\max_a Q \\ (s_{t+1}, a))$\n",
    "\n",
    "---\n",
    "...but first...\n",
    "\n",
    "In our gridworld example Q values were updated in a table.  Our continuous space will need some work!\n",
    "\n",
    "---"
   ]
  },
  {
   "cell_type": "code",
   "execution_count": 7,
   "metadata": {},
   "outputs": [],
   "source": [
    "STATE_BOUNDS = list(zip(env.observation_space.low, env.observation_space.high))"
   ]
  },
  {
   "cell_type": "code",
   "execution_count": 8,
   "metadata": {},
   "outputs": [
    {
     "data": {
      "text/plain": [
       "[(-4.8, 4.8),\n",
       " (-3.4028235e+38, 3.4028235e+38),\n",
       " (-0.41887903, 0.41887903),\n",
       " (-3.4028235e+38, 3.4028235e+38)]"
      ]
     },
     "execution_count": 8,
     "metadata": {},
     "output_type": "execute_result"
    }
   ],
   "source": [
    "STATE_BOUNDS"
   ]
  },
  {
   "cell_type": "code",
   "execution_count": 9,
   "metadata": {},
   "outputs": [],
   "source": [
    "STATE_BOUNDS[1] = (-1.,1.)\n",
    "STATE_BOUNDS[3] = (-1.,1.)"
   ]
  },
  {
   "cell_type": "code",
   "execution_count": 10,
   "metadata": {},
   "outputs": [],
   "source": [
    "def discretize(obs, bounds, bincount):\n",
    "    s = np.zeros_like(obs, dtype='int')\n",
    "    \n",
    "    for i in range(len(obs)):\n",
    "        s[i] = np.digitize(obs[i], np.linspace(bounds[i][0],bounds[i][1],bincount[i]))-1\n",
    "        \n",
    "    return tuple(s)"
   ]
  },
  {
   "cell_type": "code",
   "execution_count": 11,
   "metadata": {},
   "outputs": [
    {
     "name": "stdout",
     "output_type": "stream",
     "text": [
      "Q Table shape is (30, 30, 30, 30, 2)\n"
     ]
    }
   ],
   "source": [
    "s_buckets = (30,30,30,30)\n",
    "q_table = np.zeros(s_buckets + (n_actions,))\n",
    "\n",
    "print(\"Q Table shape is {}\".format(q_table.shape))"
   ]
  },
  {
   "cell_type": "code",
   "execution_count": 12,
   "metadata": {},
   "outputs": [],
   "source": [
    "#--------------------------------\n",
    "# Learning parameters\n",
    "#--------------------------------\n",
    "alpha = 0.5\n",
    "gamma = 0.99\n",
    "epsilon = 1.0\n",
    "decay = 0.999\n",
    "\n",
    "alpha_min = 0.1\n",
    "epsilon_min = 0.1"
   ]
  },
  {
   "cell_type": "code",
   "execution_count": 13,
   "metadata": {
    "scrolled": true
   },
   "outputs": [
    {
     "name": "stdout",
     "output_type": "stream",
     "text": [
      "Episode 0: Avg Reward = 21.0, Exploration Rate = 1.000\n",
      "Episode 500: Avg Reward = 24.48, Exploration Rate = 0.606\n",
      "Episode 1000: Avg Reward = 39.252, Exploration Rate = 0.368\n",
      "Episode 1500: Avg Reward = 79.734, Exploration Rate = 0.223\n",
      "Episode 2000: Avg Reward = 144.626, Exploration Rate = 0.135\n",
      "Episode 2500: Avg Reward = 143.538, Exploration Rate = 0.100\n",
      "Episode 3000: Avg Reward = 159.922, Exploration Rate = 0.100\n",
      "Episode 3500: Avg Reward = 159.912, Exploration Rate = 0.100\n",
      "Episode 4000: Avg Reward = 176.256, Exploration Rate = 0.100\n",
      "Episode 4500: Avg Reward = 171.032, Exploration Rate = 0.100\n",
      "Episode 5000: Avg Reward = 174.832, Exploration Rate = 0.100\n",
      "Episode 5500: Avg Reward = 188.786, Exploration Rate = 0.100\n",
      "Episode 6000: Avg Reward = 194.77, Exploration Rate = 0.100\n",
      "Episode 6500: Avg Reward = 201.704, Exploration Rate = 0.100\n",
      "Episode 7000: Avg Reward = 225.95, Exploration Rate = 0.100\n",
      "Episode 7500: Avg Reward = 219.664, Exploration Rate = 0.100\n",
      "Episode 8000: Avg Reward = 232.048, Exploration Rate = 0.100\n",
      "Episode 8500: Avg Reward = 237.424, Exploration Rate = 0.100\n",
      "Episode 9000: Avg Reward = 243.134, Exploration Rate = 0.100\n",
      "Episode 9500: Avg Reward = 244.616, Exploration Rate = 0.100\n"
     ]
    }
   ],
   "source": [
    "n_episodes = 10000\n",
    "reward_history = []\n",
    "\n",
    "#--------------------------------\n",
    "# Iterate through pole balancing episodes\n",
    "#--------------------------------\n",
    "for episode in range(n_episodes):\n",
    "    \n",
    "    s = env.reset()\n",
    "    rsum = 0\n",
    "    \n",
    "    explore_rate = max(epsilon_min, epsilon*decay**episode)\n",
    "    \n",
    "    #--------------------------------\n",
    "    # individual steps through a single episode\n",
    "    #--------------------------------\n",
    "    while True:\n",
    "        #--------------------------------\n",
    "        # Epsilon greedy policy for selecting actions\n",
    "        #--------------------------------\n",
    "        sd = discretize(s,STATE_BOUNDS,s_buckets)\n",
    "        a =  np.argmax(q_table[sd])\n",
    "        if np.random.uniform() < explore_rate:\n",
    "            a = np.random.choice(range(n_actions))\n",
    "\n",
    "        #--------------------------------\n",
    "        # Take selected action\n",
    "        #--------------------------------            \n",
    "        sp, r, d, _ = env.step(a)\n",
    "        spd = discretize(sp,STATE_BOUNDS,s_buckets)\n",
    "\n",
    "        #--------------------------------\n",
    "        # Update Q table with experience tuple\n",
    "        #--------------------------------        \n",
    "        if d:\n",
    "            q_table[sd + (a,)] = (1-alpha)*q_table[sd + (a,)] + alpha*(r)\n",
    "        else:\n",
    "            q_table[sd + (a,)] = (1-alpha)*q_table[sd + (a,)] + alpha*(r + gamma*max(q_table[spd]))\n",
    "        \n",
    "        s = sp\n",
    "        rsum += r\n",
    "        if d:\n",
    "            break\n",
    "\n",
    "    reward_history.append(rsum)\n",
    "    #--------------------------------\n",
    "    # Print out progress indicators \n",
    "    #--------------------------------\n",
    "    if episode%500==0:\n",
    "        print(\"Episode {}: Avg Reward = {}, Exploration Rate = {:.3f}\".format(episode,np.mean(reward_history[-500:]),explore_rate))"
   ]
  },
  {
   "cell_type": "code",
   "execution_count": 14,
   "metadata": {},
   "outputs": [],
   "source": [
    "def running_mean(x, N):\n",
    "    cumsum = np.cumsum(np.insert(x, 0, 0)) \n",
    "    return (cumsum[N:] - cumsum[:-N]) / float(N)"
   ]
  },
  {
   "cell_type": "code",
   "execution_count": 15,
   "metadata": {},
   "outputs": [
    {
     "data": {
      "text/plain": [
       "[<matplotlib.lines.Line2D at 0x1280fc780>]"
      ]
     },
     "execution_count": 15,
     "metadata": {},
     "output_type": "execute_result"
    },
    {
     "data": {
      "image/png": "[encoded data removed]",
      "text/plain": [
       "<Figure size 432x288 with 1 Axes>"
      ]
     },
     "metadata": {},
     "output_type": "display_data"
    }
   ],
   "source": [
    "plt.plot(reward_history)"
   ]
  },
  {
   "cell_type": "code",
   "execution_count": 16,
   "metadata": {},
   "outputs": [
    {
     "data": {
      "text/plain": [
       "[<matplotlib.lines.Line2D at 0x129644400>]"
      ]
     },
     "execution_count": 16,
     "metadata": {},
     "output_type": "execute_result"
    },
    {
     "data": {
      "image/png": "[encoded data removed]",
      "text/plain": [
       "<Figure size 432x288 with 1 Axes>"
      ]
     },
     "metadata": {},
     "output_type": "display_data"
    }
   ],
   "source": [
    "rmoving = running_mean(reward_history, 100)\n",
    "plt.plot(rmoving)"
   ]
  },
  {
   "cell_type": "markdown",
   "metadata": {},
   "source": [
    "---\n",
    "## Run your trained agent for a random episode!\n",
    "\n",
    "---"
   ]
  },
  {
   "cell_type": "code",
   "execution_count": 20,
   "metadata": {},
   "outputs": [
    {
     "name": "stdout",
     "output_type": "stream",
     "text": [
      "500.0\n"
     ]
    }
   ],
   "source": [
    "s = env.reset()\n",
    "total_reward = 0\n",
    "while True:\n",
    "    sd = discretize(s,STATE_BOUNDS,s_buckets)\n",
    "    a =  np.argmax(q_table[sd])\n",
    "\n",
    "    sp, r, d, _ = env.step(a)\n",
    "        \n",
    "    env.render()\n",
    "\n",
    "    total_reward += r\n",
    "    s = sp\n",
    "    if d:\n",
    "        print(total_reward)\n",
    "        break"
   ]
  },
  {
   "cell_type": "code",
   "execution_count": null,
   "metadata": {},
   "outputs": [],
   "source": []
  }
 ],
 "metadata": {
  "kernelspec": {
   "display_name": "Python 3",
   "language": "python",
   "name": "python3"
  },
  "language_info": {
   "codemirror_mode": {
    "name": "ipython",
    "version": 3
   },
   "file_extension": ".py",
   "mimetype": "text/x-python",
   "name": "python",
   "nbconvert_exporter": "python",
   "pygments_lexer": "ipython3",
   "version": "3.6.2"
  }
 },
 "nbformat": 4,
 "nbformat_minor": 2
}
